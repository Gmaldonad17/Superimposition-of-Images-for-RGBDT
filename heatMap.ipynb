{
 "cells": [
  {
   "cell_type": "code",
   "execution_count": 1,
   "id": "e1b7725c-f9e7-47c2-8438-cd08de5c410a",
   "metadata": {},
   "outputs": [],
   "source": [
    "import cv2\n",
    "import numpy as np\n",
    "import time\n",
    "  \n",
    "# define a video capture object\n",
    "vid = cv2.VideoCapture(0)\n",
    "  \n",
    "heatImg = []\n",
    "a = 0.01\n",
    "\n",
    "c = 0\n",
    "while(True):\n",
    "          \n",
    "    ret, frame = vid.read()\n",
    "    \n",
    "    if len(heatImg) == 0:\n",
    "        heatImg = frame\n",
    "    \n",
    "    i, mask = cv2.threshold(frame,155,255, cv2.THRESH_BINARY)\n",
    "    \n",
    "    fadedFrame = (frame * a)\n",
    "    fadedFrame = fadedFrame.astype(\"uint8\")\n",
    "    fadedFrame &= mask\n",
    "    \n",
    "    \n",
    "    # print(fadedFrame)\n",
    "    \n",
    "    heatImg = np.add(heatImg, fadedFrame)\n",
    "    heatImg = np.clip(heatImg, 0, 250)\n",
    "    \n",
    "    if c%10 == 0:\n",
    "        heatImg = cv2.addWeighted(heatImg, 1-a, frame, a, 0)\n",
    "    \n",
    "    cv2.imshow('frame', cv2.resize(heatImg, (900,900)))\n",
    "    \n",
    "    # time.sleep(0.1)\n",
    "    \n",
    "    if cv2.waitKey(1) & 0xFF == ord('q'):\n",
    "        break\n",
    "    c+=1\n",
    "  \n",
    "# After the loop release the cap object\n",
    "vid.release()\n",
    "# Destroy all the windows\n",
    "cv2.destroyAllWindows()"
   ]
  },
  {
   "cell_type": "code",
   "execution_count": null,
   "id": "d6b499e5-ffdf-47af-8b40-e2e9871dcbcf",
   "metadata": {},
   "outputs": [],
   "source": []
  }
 ],
 "metadata": {
  "kernelspec": {
   "display_name": "Python 3 (ipykernel)",
   "language": "python",
   "name": "python3"
  },
  "language_info": {
   "codemirror_mode": {
    "name": "ipython",
    "version": 3
   },
   "file_extension": ".py",
   "mimetype": "text/x-python",
   "name": "python",
   "nbconvert_exporter": "python",
   "pygments_lexer": "ipython3",
   "version": "3.10.9"
  }
 },
 "nbformat": 4,
 "nbformat_minor": 5
}
