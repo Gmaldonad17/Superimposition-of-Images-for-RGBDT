{
 "cells": [
  {
   "cell_type": "code",
   "execution_count": 1,
   "id": "4caeb7cc-2f8e-423c-a964-b2ef7de5fe70",
   "metadata": {},
   "outputs": [],
   "source": [
    "from ultralytics import YOLO\n",
    "from ultralytics.yolo.utils.plotting import Annotator\n",
    "import torch\n",
    "import numpy as np\n",
    "import os\n",
    "import cv2"
   ]
  },
  {
   "cell_type": "code",
   "execution_count": 3,
   "id": "bf688874-b874-401a-8ca7-66a6557e0fb2",
   "metadata": {
    "tags": []
   },
   "outputs": [
    {
     "name": "stdout",
     "output_type": "stream",
     "text": [
      "torch.Size([3, 640, 640])\n",
      "<ultralytics.yolo.utils.plotting.Annotator object at 0x00000296A1553D90>\n",
      "tensor([0.90659])\n",
      "tensor([0.88997])\n",
      "tensor([0.86815])\n"
     ]
    }
   ],
   "source": [
    "model = YOLO(\"yolov8l-seg.pt\")\n",
    "\n",
    "PATH = \"videos/2022-12-02_13-05-04/processed/rgb_sii.mp4\"\n",
    "\n",
    "for result in model.track(source=PATH, stream=True, verbose=False):\n",
    "    \n",
    "    frame = result.orig_img\n",
    "    print(result.masks.shape)\n",
    "    \n",
    "    \n",
    "    combined_mask = np.zeros((640, 640), dtype=bool)\n",
    "\n",
    "    annotator = Annotator(frame)\n",
    "    print(annotator)\n",
    "    \n",
    "    for box in result.boxes:\n",
    "        print(box.conf)\n",
    "        annotator.box_label(box.xyxy[0], label=str(box.id.item()), color=(0,225,100))\n",
    "        \n",
    "    \n",
    "    cv2.imshow(\"YOLO\", annotator.result())\n",
    "    break\n",
    "    if cv2.waitKey(1) & 0xFF == ord('q'):\n",
    "        break"
   ]
  },
  {
   "cell_type": "code",
   "execution_count": 41,
   "id": "69a43a56-93f0-4778-82da-8867ff559971",
   "metadata": {},
   "outputs": [
    {
     "data": {
      "text/plain": [
       "torch.Size([1, 640, 640])"
      ]
     },
     "execution_count": 41,
     "metadata": {},
     "output_type": "execute_result"
    }
   ],
   "source": [
    "result.masks.cpu().data.shape"
   ]
  },
  {
   "cell_type": "code",
   "execution_count": 5,
   "id": "b0b7d609-6e38-481b-97e2-06295f057522",
   "metadata": {},
   "outputs": [
    {
     "ename": "NameError",
     "evalue": "name 'annotator' is not defined",
     "output_type": "error",
     "traceback": [
      "\u001b[1;31m---------------------------------------------------------------------------\u001b[0m",
      "\u001b[1;31mNameError\u001b[0m                                 Traceback (most recent call last)",
      "Cell \u001b[1;32mIn[5], line 1\u001b[0m\n\u001b[1;32m----> 1\u001b[0m \u001b[43mannotator\u001b[49m\n",
      "\u001b[1;31mNameError\u001b[0m: name 'annotator' is not defined"
     ]
    }
   ],
   "source": []
  },
  {
   "cell_type": "code",
   "execution_count": null,
   "id": "3390e94d-4ab3-46a7-88c9-75be7c011ee8",
   "metadata": {},
   "outputs": [],
   "source": []
  }
 ],
 "metadata": {
  "kernelspec": {
   "display_name": "Python 3 (ipykernel)",
   "language": "python",
   "name": "python3"
  },
  "language_info": {
   "codemirror_mode": {
    "name": "ipython",
    "version": 3
   },
   "file_extension": ".py",
   "mimetype": "text/x-python",
   "name": "python",
   "nbconvert_exporter": "python",
   "pygments_lexer": "ipython3",
   "version": "3.10.9"
  }
 },
 "nbformat": 4,
 "nbformat_minor": 5
}
